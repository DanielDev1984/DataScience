{
 "cells": [
  {
   "cell_type": "code",
   "execution_count": 1,
   "id": "108e5625",
   "metadata": {},
   "outputs": [],
   "source": [
    "# standard imports\n",
    "import pandas as pd\n",
    "import numpy as np"
   ]
  },
  {
   "cell_type": "markdown",
   "id": "95416893",
   "metadata": {},
   "source": [
    "# Pandas tutorial (based on: https://www.youtube.com/watch?v=PcvsOaixUh8)\n",
    "## Series"
   ]
  },
  {
   "cell_type": "code",
   "execution_count": 2,
   "id": "1c9d33dc",
   "metadata": {},
   "outputs": [
    {
     "name": "stdout",
     "output_type": "stream",
     "text": [
      "1    a\n",
      "2    b\n",
      "3    c\n",
      "4    d\n",
      "dtype: object\n"
     ]
    },
    {
     "data": {
      "text/plain": [
       "1    a\n",
       "2    b\n",
       "3    c\n",
       "4    d\n",
       "dtype: object"
      ]
     },
     "execution_count": 2,
     "metadata": {},
     "output_type": "execute_result"
    }
   ],
   "source": [
    "list_1 = ['a', 'b','c', 'd']\n",
    "labels = [1,2,3,4]\n",
    "ser_1 = pd.Series(data=list_1, index=labels)\n",
    "print(ser_1)\n",
    "ser_1"
   ]
  },
  {
   "cell_type": "code",
   "execution_count": 3,
   "id": "80c1f49f",
   "metadata": {},
   "outputs": [
    {
     "data": {
      "text/plain": [
       "'personInfo'"
      ]
     },
     "execution_count": 3,
     "metadata": {},
     "output_type": "execute_result"
    }
   ],
   "source": [
    "dict_1 = {'f_name' : \"daniel\", 'l_name' : \"schmied\", 'age' : 38}\n",
    "ser_2 = pd.Series(dict_1, name='personInfo')\n",
    "ser_2['f_name']\n",
    "ser_2.name"
   ]
  },
  {
   "cell_type": "markdown",
   "id": "0cba0a6a",
   "metadata": {},
   "source": [
    "## Dataframes"
   ]
  },
  {
   "cell_type": "code",
   "execution_count": 4,
   "id": "eb20b982",
   "metadata": {},
   "outputs": [
    {
     "data": {
      "text/html": [
       "<div>\n",
       "<style scoped>\n",
       "    .dataframe tbody tr th:only-of-type {\n",
       "        vertical-align: middle;\n",
       "    }\n",
       "\n",
       "    .dataframe tbody tr th {\n",
       "        vertical-align: top;\n",
       "    }\n",
       "\n",
       "    .dataframe thead th {\n",
       "        text-align: right;\n",
       "    }\n",
       "</style>\n",
       "<table border=\"1\" class=\"dataframe\">\n",
       "  <thead>\n",
       "    <tr style=\"text-align: right;\">\n",
       "      <th></th>\n",
       "      <th>Col_1</th>\n",
       "      <th>Col_2</th>\n",
       "      <th>Col_3</th>\n",
       "    </tr>\n",
       "  </thead>\n",
       "  <tbody>\n",
       "    <tr>\n",
       "      <th>Row_1</th>\n",
       "      <td>30</td>\n",
       "      <td>11</td>\n",
       "      <td>20</td>\n",
       "    </tr>\n",
       "    <tr>\n",
       "      <th>Row_2</th>\n",
       "      <td>48</td>\n",
       "      <td>47</td>\n",
       "      <td>13</td>\n",
       "    </tr>\n",
       "  </tbody>\n",
       "</table>\n",
       "</div>"
      ],
      "text/plain": [
       "       Col_1  Col_2  Col_3\n",
       "Row_1     30     11     20\n",
       "Row_2     48     47     13"
      ]
     },
     "execution_count": 4,
     "metadata": {},
     "output_type": "execute_result"
    }
   ],
   "source": [
    "rand_arr = np.random.randint(10,50,size=(2,3))\n",
    "df_1 = pd.DataFrame(rand_arr, ['Row_1', 'Row_2'], ['Col_1','Col_2','Col_3'])\n",
    "df_1"
   ]
  },
  {
   "cell_type": "code",
   "execution_count": 5,
   "id": "dab509d0",
   "metadata": {},
   "outputs": [
    {
     "data": {
      "text/html": [
       "<div>\n",
       "<style scoped>\n",
       "    .dataframe tbody tr th:only-of-type {\n",
       "        vertical-align: middle;\n",
       "    }\n",
       "\n",
       "    .dataframe tbody tr th {\n",
       "        vertical-align: top;\n",
       "    }\n",
       "\n",
       "    .dataframe thead th {\n",
       "        text-align: right;\n",
       "    }\n",
       "</style>\n",
       "<table border=\"1\" class=\"dataframe\">\n",
       "  <thead>\n",
       "    <tr style=\"text-align: right;\">\n",
       "      <th></th>\n",
       "      <th>Weight [kg]</th>\n",
       "      <th>Height [cm]</th>\n",
       "    </tr>\n",
       "  </thead>\n",
       "  <tbody>\n",
       "    <tr>\n",
       "      <th>Daniel</th>\n",
       "      <td>80</td>\n",
       "      <td>180</td>\n",
       "    </tr>\n",
       "    <tr>\n",
       "      <th>Claudia</th>\n",
       "      <td>60</td>\n",
       "      <td>160</td>\n",
       "    </tr>\n",
       "    <tr>\n",
       "      <th>Tim</th>\n",
       "      <td>25</td>\n",
       "      <td>125</td>\n",
       "    </tr>\n",
       "  </tbody>\n",
       "</table>\n",
       "</div>"
      ],
      "text/plain": [
       "         Weight [kg]  Height [cm]\n",
       "Daniel            80          180\n",
       "Claudia           60          160\n",
       "Tim               25          125"
      ]
     },
     "execution_count": 5,
     "metadata": {},
     "output_type": "execute_result"
    }
   ],
   "source": [
    "persons_df = ['Daniel', 'Claudia', 'Tim']\n",
    "person_attributes = {'weight': \"Weight [kg]\", 'height':\"Height [cm]\"}\n",
    "weights_df = [80, 60, 25]\n",
    "heights_df = [180, 160, 125]\n",
    "dict_df = {person_attributes['weight'] : pd.Series(weights_df, persons_df), \n",
    "           person_attributes['height'] : pd.Series(heights_df, persons_df)}\n",
    "df_2 = pd.DataFrame(dict_df)\n",
    "df_2"
   ]
  },
  {
   "cell_type": "markdown",
   "id": "9d0bcd87",
   "metadata": {},
   "source": [
    "## Editing & retrieving Data"
   ]
  },
  {
   "cell_type": "code",
   "execution_count": 6,
   "id": "a67bac2f",
   "metadata": {},
   "outputs": [
    {
     "data": {
      "text/html": [
       "<div>\n",
       "<style scoped>\n",
       "    .dataframe tbody tr th:only-of-type {\n",
       "        vertical-align: middle;\n",
       "    }\n",
       "\n",
       "    .dataframe tbody tr th {\n",
       "        vertical-align: top;\n",
       "    }\n",
       "\n",
       "    .dataframe thead th {\n",
       "        text-align: right;\n",
       "    }\n",
       "</style>\n",
       "<table border=\"1\" class=\"dataframe\">\n",
       "  <thead>\n",
       "    <tr style=\"text-align: right;\">\n",
       "      <th></th>\n",
       "      <th>Weight [kg]</th>\n",
       "    </tr>\n",
       "  </thead>\n",
       "  <tbody>\n",
       "    <tr>\n",
       "      <th>Daniel</th>\n",
       "      <td>80</td>\n",
       "    </tr>\n",
       "    <tr>\n",
       "      <th>Claudia</th>\n",
       "      <td>60</td>\n",
       "    </tr>\n",
       "    <tr>\n",
       "      <th>Tim</th>\n",
       "      <td>25</td>\n",
       "    </tr>\n",
       "  </tbody>\n",
       "</table>\n",
       "</div>"
      ],
      "text/plain": [
       "         Weight [kg]\n",
       "Daniel            80\n",
       "Claudia           60\n",
       "Tim               25"
      ]
     },
     "execution_count": 6,
     "metadata": {},
     "output_type": "execute_result"
    }
   ],
   "source": [
    "df_2[[person_attributes['weight']]]"
   ]
  },
  {
   "cell_type": "code",
   "execution_count": 7,
   "id": "c011ceab",
   "metadata": {},
   "outputs": [
    {
     "data": {
      "text/plain": [
       "Weight [kg]     80\n",
       "Height [cm]    180\n",
       "Name: Daniel, dtype: int64"
      ]
     },
     "execution_count": 7,
     "metadata": {},
     "output_type": "execute_result"
    }
   ],
   "source": [
    "df_2.loc['Daniel']"
   ]
  },
  {
   "cell_type": "code",
   "execution_count": 8,
   "id": "ffbd8d16",
   "metadata": {},
   "outputs": [
    {
     "data": {
      "text/plain": [
       "Weight [kg]     80\n",
       "Height [cm]    180\n",
       "Name: Daniel, dtype: int64"
      ]
     },
     "execution_count": 8,
     "metadata": {},
     "output_type": "execute_result"
    }
   ],
   "source": [
    "df_2.iloc[0]"
   ]
  },
  {
   "cell_type": "code",
   "execution_count": 9,
   "id": "358d1282",
   "metadata": {},
   "outputs": [
    {
     "data": {
      "text/html": [
       "<div>\n",
       "<style scoped>\n",
       "    .dataframe tbody tr th:only-of-type {\n",
       "        vertical-align: middle;\n",
       "    }\n",
       "\n",
       "    .dataframe tbody tr th {\n",
       "        vertical-align: top;\n",
       "    }\n",
       "\n",
       "    .dataframe thead th {\n",
       "        text-align: right;\n",
       "    }\n",
       "</style>\n",
       "<table border=\"1\" class=\"dataframe\">\n",
       "  <thead>\n",
       "    <tr style=\"text-align: right;\">\n",
       "      <th></th>\n",
       "      <th>Weight [kg]</th>\n",
       "      <th>Height [cm]</th>\n",
       "      <th>BMI</th>\n",
       "    </tr>\n",
       "  </thead>\n",
       "  <tbody>\n",
       "    <tr>\n",
       "      <th>Daniel</th>\n",
       "      <td>80</td>\n",
       "      <td>180</td>\n",
       "      <td>24.691358</td>\n",
       "    </tr>\n",
       "    <tr>\n",
       "      <th>Claudia</th>\n",
       "      <td>60</td>\n",
       "      <td>160</td>\n",
       "      <td>23.437500</td>\n",
       "    </tr>\n",
       "    <tr>\n",
       "      <th>Tim</th>\n",
       "      <td>25</td>\n",
       "      <td>125</td>\n",
       "      <td>16.000000</td>\n",
       "    </tr>\n",
       "  </tbody>\n",
       "</table>\n",
       "</div>"
      ],
      "text/plain": [
       "         Weight [kg]  Height [cm]        BMI\n",
       "Daniel            80          180  24.691358\n",
       "Claudia           60          160  23.437500\n",
       "Tim               25          125  16.000000"
      ]
     },
     "execution_count": 9,
     "metadata": {},
     "output_type": "execute_result"
    }
   ],
   "source": [
    "df_2['BMI'] = df_2[person_attributes['weight']] / (0.01*df_2[person_attributes['height']])**2 \n",
    "df_2"
   ]
  },
  {
   "cell_type": "markdown",
   "id": "22bc3474",
   "metadata": {},
   "source": [
    "## Conditional selection"
   ]
  },
  {
   "cell_type": "code",
   "execution_count": 10,
   "id": "7da29793",
   "metadata": {},
   "outputs": [
    {
     "data": {
      "text/plain": [
       "array([[28, 18, 42],\n",
       "       [42, 19, 21]])"
      ]
     },
     "execution_count": 10,
     "metadata": {},
     "output_type": "execute_result"
    }
   ],
   "source": [
    "array_cs = np.random.randint(10,50,size=(2,3))\n",
    "array_cs"
   ]
  },
  {
   "cell_type": "code",
   "execution_count": 11,
   "id": "b12787f2",
   "metadata": {},
   "outputs": [
    {
     "data": {
      "text/html": [
       "<div>\n",
       "<style scoped>\n",
       "    .dataframe tbody tr th:only-of-type {\n",
       "        vertical-align: middle;\n",
       "    }\n",
       "\n",
       "    .dataframe tbody tr th {\n",
       "        vertical-align: top;\n",
       "    }\n",
       "\n",
       "    .dataframe thead th {\n",
       "        text-align: right;\n",
       "    }\n",
       "</style>\n",
       "<table border=\"1\" class=\"dataframe\">\n",
       "  <thead>\n",
       "    <tr style=\"text-align: right;\">\n",
       "      <th></th>\n",
       "      <th>col1</th>\n",
       "      <th>col2</th>\n",
       "      <th>col3</th>\n",
       "    </tr>\n",
       "  </thead>\n",
       "  <tbody>\n",
       "    <tr>\n",
       "      <th>row1</th>\n",
       "      <td>28</td>\n",
       "      <td>18</td>\n",
       "      <td>42</td>\n",
       "    </tr>\n",
       "    <tr>\n",
       "      <th>row2</th>\n",
       "      <td>42</td>\n",
       "      <td>19</td>\n",
       "      <td>21</td>\n",
       "    </tr>\n",
       "  </tbody>\n",
       "</table>\n",
       "</div>"
      ],
      "text/plain": [
       "      col1  col2  col3\n",
       "row1    28    18    42\n",
       "row2    42    19    21"
      ]
     },
     "execution_count": 11,
     "metadata": {},
     "output_type": "execute_result"
    }
   ],
   "source": [
    "df_cs = pd.DataFrame(array_cs, ['row1', 'row2'], ['col1', 'col2', 'col3'])\n",
    "df_cs"
   ]
  },
  {
   "cell_type": "code",
   "execution_count": 12,
   "id": "cbb3a648",
   "metadata": {},
   "outputs": [
    {
     "name": "stdout",
     "output_type": "stream",
     "text": [
      "Greater then 40 \n",
      "        col1   col2   col3\n",
      "row1  False  False   True\n",
      "row2   True  False  False\n"
     ]
    }
   ],
   "source": [
    "print(\"Greater then 40 \\n\", df_cs.gt(40))"
   ]
  },
  {
   "cell_type": "code",
   "execution_count": 13,
   "id": "302e851c",
   "metadata": {},
   "outputs": [
    {
     "data": {
      "text/html": [
       "<div>\n",
       "<style scoped>\n",
       "    .dataframe tbody tr th:only-of-type {\n",
       "        vertical-align: middle;\n",
       "    }\n",
       "\n",
       "    .dataframe tbody tr th {\n",
       "        vertical-align: top;\n",
       "    }\n",
       "\n",
       "    .dataframe thead th {\n",
       "        text-align: right;\n",
       "    }\n",
       "</style>\n",
       "<table border=\"1\" class=\"dataframe\">\n",
       "  <thead>\n",
       "    <tr style=\"text-align: right;\">\n",
       "      <th></th>\n",
       "      <th>col1</th>\n",
       "      <th>col2</th>\n",
       "      <th>col3</th>\n",
       "    </tr>\n",
       "  </thead>\n",
       "  <tbody>\n",
       "    <tr>\n",
       "      <th>row1</th>\n",
       "      <td>NaN</td>\n",
       "      <td>NaN</td>\n",
       "      <td>42.0</td>\n",
       "    </tr>\n",
       "    <tr>\n",
       "      <th>row2</th>\n",
       "      <td>42.0</td>\n",
       "      <td>NaN</td>\n",
       "      <td>NaN</td>\n",
       "    </tr>\n",
       "  </tbody>\n",
       "</table>\n",
       "</div>"
      ],
      "text/plain": [
       "      col1  col2  col3\n",
       "row1   NaN   NaN  42.0\n",
       "row2  42.0   NaN   NaN"
      ]
     },
     "execution_count": 13,
     "metadata": {},
     "output_type": "execute_result"
    }
   ],
   "source": [
    "cond = df_cs.gt(40)\n",
    "df_cs[cond]"
   ]
  },
  {
   "cell_type": "code",
   "execution_count": null,
   "id": "0c4eb634",
   "metadata": {},
   "outputs": [],
   "source": []
  },
  {
   "cell_type": "markdown",
   "id": "34448595",
   "metadata": {},
   "source": [
    "### ways of acessing rows or columns of a dataframe"
   ]
  },
  {
   "cell_type": "code",
   "execution_count": 14,
   "id": "b2e32fb6",
   "metadata": {},
   "outputs": [
    {
     "data": {
      "text/html": [
       "<div>\n",
       "<style scoped>\n",
       "    .dataframe tbody tr th:only-of-type {\n",
       "        vertical-align: middle;\n",
       "    }\n",
       "\n",
       "    .dataframe tbody tr th {\n",
       "        vertical-align: top;\n",
       "    }\n",
       "\n",
       "    .dataframe thead th {\n",
       "        text-align: right;\n",
       "    }\n",
       "</style>\n",
       "<table border=\"1\" class=\"dataframe\">\n",
       "  <thead>\n",
       "    <tr style=\"text-align: right;\">\n",
       "      <th></th>\n",
       "      <th>Weight [kg]</th>\n",
       "      <th>Height [cm]</th>\n",
       "    </tr>\n",
       "  </thead>\n",
       "  <tbody>\n",
       "    <tr>\n",
       "      <th>Daniel</th>\n",
       "      <td>80</td>\n",
       "      <td>180</td>\n",
       "    </tr>\n",
       "    <tr>\n",
       "      <th>Claudia</th>\n",
       "      <td>60</td>\n",
       "      <td>160</td>\n",
       "    </tr>\n",
       "    <tr>\n",
       "      <th>Tim</th>\n",
       "      <td>25</td>\n",
       "      <td>125</td>\n",
       "    </tr>\n",
       "  </tbody>\n",
       "</table>\n",
       "</div>"
      ],
      "text/plain": [
       "         Weight [kg]  Height [cm]\n",
       "Daniel            80          180\n",
       "Claudia           60          160\n",
       "Tim               25          125"
      ]
     },
     "execution_count": 14,
     "metadata": {},
     "output_type": "execute_result"
    }
   ],
   "source": [
    "# setting up the dataframe\n",
    "persons_df_local = ['Daniel', 'Claudia', 'Tim']\n",
    "person_attributes_local = {'weight': \"Weight [kg]\", 'height':\"Height [cm]\"}\n",
    "weights_df_local = [80, 60, 25]\n",
    "heights_df_local = [180, 160, 125]\n",
    "dict_df_local = {person_attributes_local['weight'] : pd.Series(weights_df_local, persons_df_local), \n",
    "           person_attributes_local['height'] : pd.Series(heights_df_local, persons_df_local)}\n",
    "df_2_local = pd.DataFrame(dict_df_local)\n",
    "df_2_local"
   ]
  },
  {
   "cell_type": "code",
   "execution_count": 15,
   "id": "2ea40740",
   "metadata": {},
   "outputs": [
    {
     "data": {
      "text/plain": [
       "Daniel     80\n",
       "Claudia    60\n",
       "Tim        25\n",
       "Name: Weight [kg], dtype: int64"
      ]
     },
     "execution_count": 15,
     "metadata": {},
     "output_type": "execute_result"
    }
   ],
   "source": [
    "# accessing dataframe columns by attribute name\n",
    "df_2_local[person_attributes_local['weight']]"
   ]
  },
  {
   "cell_type": "code",
   "execution_count": 16,
   "id": "810f2d92",
   "metadata": {},
   "outputs": [
    {
     "data": {
      "text/plain": [
       "Weight [kg]     80\n",
       "Height [cm]    180\n",
       "Name: Daniel, dtype: int64"
      ]
     },
     "execution_count": 16,
     "metadata": {},
     "output_type": "execute_result"
    }
   ],
   "source": [
    "# acessing datagrame rows by index name (\"label\")\n",
    "df_2_local.loc['Daniel']"
   ]
  },
  {
   "cell_type": "code",
   "execution_count": 25,
   "id": "14a2f3c9",
   "metadata": {},
   "outputs": [
    {
     "data": {
      "text/plain": [
       "Weight [kg]     80\n",
       "Height [cm]    180\n",
       "Name: Daniel, dtype: int64"
      ]
     },
     "execution_count": 25,
     "metadata": {},
     "output_type": "execute_result"
    }
   ],
   "source": [
    "# acessing datagrame rows by index\n",
    "df_2_local.iloc[0]"
   ]
  },
  {
   "cell_type": "markdown",
   "id": "5cab13e9",
   "metadata": {},
   "source": [
    "## File In- / Output"
   ]
  },
  {
   "cell_type": "code",
   "execution_count": 18,
   "id": "e804306a",
   "metadata": {},
   "outputs": [],
   "source": [
    "cd_IO = pd.read_csv('ComputerSales.csv')\n",
    "#cd_IO"
   ]
  },
  {
   "cell_type": "markdown",
   "id": "5b862aed",
   "metadata": {},
   "source": [
    "### !DRAFT! (mySQL-db not setup yet) importing data from mySQL-db"
   ]
  },
  {
   "cell_type": "code",
   "execution_count": 22,
   "id": "d53abdda",
   "metadata": {},
   "outputs": [],
   "source": [
    "import pymysql"
   ]
  },
  {
   "cell_type": "code",
   "execution_count": 24,
   "id": "a722b017",
   "metadata": {},
   "outputs": [
    {
     "name": "stdout",
     "output_type": "stream",
     "text": [
      "Exception : (2003, \"Can't connect to MySQL server on 'localhost' ([Errno 8] nodename nor servname provided, or not known)\")\n"
     ]
    }
   ],
   "source": [
    "# try to establish a connection to the mySQL-db\n",
    "try:\n",
    "    db_connection = pymysql.connect(db='dbName', user='userName', passwd='pwd', host='localhost', port=1232424)\n",
    "    # create a dataframe for the SQL-query\n",
    "    db_df = pd.read_sql('SELECT * FROM dbName', con=db_connection)\n",
    "except Exception as e:\n",
    "    print(\"Exception : {}\".format(e))\n",
    "finally:\n",
    "    # make sure the db-connection always is closed\n",
    "    db_connection.close()"
   ]
  },
  {
   "cell_type": "code",
   "execution_count": null,
   "id": "103b4c33",
   "metadata": {},
   "outputs": [],
   "source": []
  }
 ],
 "metadata": {
  "kernelspec": {
   "display_name": "Python 3 (ipykernel)",
   "language": "python",
   "name": "python3"
  },
  "language_info": {
   "codemirror_mode": {
    "name": "ipython",
    "version": 3
   },
   "file_extension": ".py",
   "mimetype": "text/x-python",
   "name": "python",
   "nbconvert_exporter": "python",
   "pygments_lexer": "ipython3",
   "version": "3.11.4"
  }
 },
 "nbformat": 4,
 "nbformat_minor": 5
}
